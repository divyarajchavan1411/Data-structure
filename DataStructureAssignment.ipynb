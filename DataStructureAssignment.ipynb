{
  "nbformat": 4,
  "nbformat_minor": 0,
  "metadata": {
    "colab": {
      "provenance": []
    },
    "kernelspec": {
      "name": "python3",
      "display_name": "Python 3"
    },
    "language_info": {
      "name": "python"
    }
  },
  "cells": [
    {
      "cell_type": "code",
      "execution_count": null,
      "metadata": {
        "id": "IJZoIxtRNfKc"
      },
      "outputs": [],
      "source": []
    },
    {
      "cell_type": "markdown",
      "source": [
        "1) What are data structures, and why are they important?\n",
        "- In Python, data structures are built-in or user-defined ways to store and organize data efficiently. Common built-in data structures include lists, tuples, sets, and dictionaries. Python also supports advanced structures like stacks, queues, linked lists, trees, and graphs through libraries like collections and heapq.\n",
        "- They are important because they determine how data is stored, accessed, and manipulated, directly affecting program efficiency. Proper use of data structures enhances performance, reduces memory usage, and simplifies problem-solving. Whether handling large datasets, optimizing algorithms, or managing system resources, choosing the right data structure is essential for writing clean and efficient Python code."
      ],
      "metadata": {
        "id": "UV65t-UPO-4V"
      }
    },
    {
      "cell_type": "markdown",
      "source": [
        "2) Explain the difference between mutable and immutable data types with examples.\n",
        "- In Python, mutable data types can be changed after creation, while immutable data types cannot.Mutable types include lists, dictionaries, and sets. For example, modifying a list is possible:"
      ],
      "metadata": {
        "id": "U-CrJujoP--F"
      }
    },
    {
      "cell_type": "code",
      "source": [
        "my_list = [1, 2, 3]\n",
        "my_list.append(4)  # Modifies the original list"
      ],
      "metadata": {
        "id": "oU_PRrL_Qo2l"
      },
      "execution_count": null,
      "outputs": []
    },
    {
      "cell_type": "markdown",
      "source": [
        "Immutable types include tuples, strings, and numbers. Once created, they cannot be changed:"
      ],
      "metadata": {
        "id": "c1aPQqebQ1dD"
      }
    },
    {
      "cell_type": "code",
      "source": [
        "my_tuple = (1, 2, 3)\n",
        "# my_tuple[0] = 4  # This would raise an error"
      ],
      "metadata": {
        "id": "mXpngQXxQwv3"
      },
      "execution_count": null,
      "outputs": []
    },
    {
      "cell_type": "markdown",
      "source": [
        "- Mutability impacts performance, memory usage, and security. Immutable objects are hashable and useful as dictionary keys, while mutable ones allow flexible data manipulation."
      ],
      "metadata": {
        "id": "f5N004NLREaD"
      }
    },
    {
      "cell_type": "markdown",
      "source": [
        "3) What are the main differences between lists and tuples in Python?\n",
        "- Lists and tuples are both sequence data types in Python, but they have key differences.\n",
        "\n",
        "Mutability: Lists are mutable (modifiable), while tuples are immutable (cannot be changed after creation)."
      ],
      "metadata": {
        "id": "PX1tx9uRRQII"
      }
    },
    {
      "cell_type": "code",
      "source": [
        "my_list = [1, 2, 3]\n",
        "my_list.append(4)  # Works\n",
        "\n",
        "my_tuple = (1, 2, 3)\n",
        "# my_tuple[0] = 4  # Raises an error"
      ],
      "metadata": {
        "id": "m1FTbK4HR8J6"
      },
      "execution_count": null,
      "outputs": []
    },
    {
      "cell_type": "markdown",
      "source": [
        "- Performance: Tuples are faster and use less memory than lists due to immutability.\n",
        "\n",
        "- Use Cases: Lists are used for dynamic data, while tuples are ideal for fixed collections.\n",
        "\n",
        "- Hashability: Tuples can be used as dictionary keys, but lists cannot."
      ],
      "metadata": {
        "id": "BxFj1xZJSCsI"
      }
    },
    {
      "cell_type": "markdown",
      "source": [
        "4)  Describe how dictionaries store data.\n",
        "- Dictionaries in Python store data as key-value pairs using a hash table for fast access. Each key is hashed to a unique index, enabling O(1) average-time complexity for lookups, insertions, and deletions.\n",
        "\n",
        "Keys must be immutable (e.g., strings, numbers, or tuples), while values can be of any type. Example:"
      ],
      "metadata": {
        "id": "pBmjQnDNSOGT"
      }
    },
    {
      "cell_type": "code",
      "source": [
        "my_dict = {\"name\": \"Alice\", \"age\": 25}\n",
        "print(my_dict[\"name\"])  # Output: Alice"
      ],
      "metadata": {
        "id": "o319fmyCS33a"
      },
      "execution_count": null,
      "outputs": []
    },
    {
      "cell_type": "markdown",
      "source": [
        "- Dictionaries handle hash collisions using techniques like open addressing or separate chaining. They are widely used for quick data retrieval, configuration storage, and implementing caches due to their efficiency and flexibility."
      ],
      "metadata": {
        "id": "P_B2xB18S-BW"
      }
    },
    {
      "cell_type": "markdown",
      "source": [
        "5) Why might you use a set instead of a list in Python?\n",
        "- A set is used instead of a list when uniqueness and fast lookups are required. Sets store only unique elements and offer O(1) average-time complexity for membership checks, unlike lists (O(n)). They are ideal for removing duplicates, fast searches, and mathematical operations like unions and intersections."
      ],
      "metadata": {
        "id": "lnjSSa0-TGkZ"
      }
    },
    {
      "cell_type": "markdown",
      "source": [
        "6) What is a string in Python, and how is it different from a list?\n",
        "- A string in Python is an immutable sequence of characters used to represent text, enclosed in quotes (\"hello\" or 'world'). Unlike lists, which are mutable and store heterogeneous elements, strings only hold characters and cannot be modified after creation.\n",
        "\n",
        "Example:"
      ],
      "metadata": {
        "id": "vB4jka0ATi6B"
      }
    },
    {
      "cell_type": "code",
      "source": [
        "s = \"hello\"\n",
        "# s[0] = \"H\"  # Error: Strings are immutable\n",
        "\n",
        "lst = [\"h\", \"e\", \"l\", \"l\", \"o\"]\n",
        "lst[0] = \"H\"  # Works: Lists are mutable"
      ],
      "metadata": {
        "id": "B5noskV6UIhZ"
      },
      "execution_count": null,
      "outputs": []
    },
    {
      "cell_type": "markdown",
      "source": [
        "- Strings support methods like .upper(), .split(), and .replace(), while lists support .append(), .remove(), and .sort(). Strings are best for text, while lists handle diverse data efficiently."
      ],
      "metadata": {
        "id": "yAKQrWf0UN7B"
      }
    },
    {
      "cell_type": "markdown",
      "source": [
        "7) How do tuples ensure data integrity in Python?\n",
        "- Tuples ensure data integrity by being immutable, meaning their contents cannot be changed after creation. This prevents accidental modifications, ensuring consistency and reliability in data storage. Tuples are useful for fixed collections, like database records or configuration settings, where preserving original values is crucial for stability and correctness."
      ],
      "metadata": {
        "id": "T-v1bVx7UY1F"
      }
    },
    {
      "cell_type": "markdown",
      "source": [
        "8) What is a hash table, and how does it relate to dictionaries in Python?\n",
        "- A hash table is a data structure that stores key-value pairs using a hashing function to map keys to specific memory locations. This enables fast lookups, insertions, and deletions in average O(1) time complexity.\n",
        "\n",
        "- In Python, dictionaries (dict) are implemented using a hash table. When a key is added, Python computes its hash value and assigns it to a corresponding bucket in memory. If multiple keys hash to the same bucket (a collision), Python resolves it using techniques like open addressing or separate chaining.\n",
        "\n",
        "- This makes dictionaries highly efficient for fast data retrieval and manipulation."
      ],
      "metadata": {
        "id": "gi2g2O5mU0NG"
      }
    },
    {
      "cell_type": "markdown",
      "source": [
        "9)  Can lists contain different data types in Python?\n",
        "- Yes, lists in Python can contain different data types because they are heterogeneous. A single list can store integers, strings, floats, booleans, and even other lists or objects.\n",
        "\n",
        "Example:"
      ],
      "metadata": {
        "id": "LzBQ2nJvVgn7"
      }
    },
    {
      "cell_type": "code",
      "source": [
        "my_list = [42, \"hello\", 3.14, True, [1, 2, 3]]\n",
        "print(my_list)  # Output: [42, 'hello', 3.14, True, [1, 2, 3]]"
      ],
      "metadata": {
        "colab": {
          "base_uri": "https://localhost:8080/"
        },
        "id": "nlpvY514V_rH",
        "outputId": "9be141e3-07da-4bfc-dc4e-aafd08e9f8df"
      },
      "execution_count": null,
      "outputs": [
        {
          "output_type": "stream",
          "name": "stdout",
          "text": [
            "[42, 'hello', 3.14, True, [1, 2, 3]]\n"
          ]
        }
      ]
    },
    {
      "cell_type": "markdown",
      "source": [
        "- This flexibility makes lists powerful for storing diverse data, but careful handling is required when performing operations, as different types may not always be compatible (e.g., adding a string to an integer)."
      ],
      "metadata": {
        "id": "YzC7adeKWKRn"
      }
    },
    {
      "cell_type": "markdown",
      "source": [
        "10)  Explain why strings are immutable in Python.\n",
        "- Strings in Python are immutable to ensure security, efficiency, and hashability. Once a string is created, it cannot be changed in memory. Instead, operations like concatenation or replacement create a new string."
      ],
      "metadata": {
        "id": "thwQrASKWRzG"
      }
    },
    {
      "cell_type": "code",
      "source": [
        "s = \"hello\"\n",
        "s = s + \" world\"  # A new string is created; the original remains unchanged"
      ],
      "metadata": {
        "id": "YWz0rMamWH_x"
      },
      "execution_count": null,
      "outputs": []
    },
    {
      "cell_type": "markdown",
      "source": [
        "Reasons for Immutability:\n",
        "- Memory Efficiency – String interning allows reuse of identical strings, reducing memory usage.\n",
        "- Security – Prevents unintended modifications, crucial for sensitive data.\n",
        "- Hashability – Strings can be used as dictionary keys, ensuring reliable key-value lookups.\n",
        "\n",
        "\n",
        "\n",
        "\n",
        "\n",
        "\n"
      ],
      "metadata": {
        "id": "QYCA5_FWW435"
      }
    },
    {
      "cell_type": "markdown",
      "source": [
        "11) What advantages do dictionaries offer over lists for certain tasks?\n",
        "- 1. Fast Lookups (O(1) vs. O(n)):\n",
        "Dictionaries use hash tables, enabling O(1) average-time complexity for key-based lookups, whereas lists require O(n) linear search.\n",
        "2. Key-Value Pair Storage :\n",
        "Dictionaries store data with meaningful keys, improving readability and organization, unlike lists, which use numeric indices.\n",
        "\n",
        "3. Efficient Data Manipulation :\n",
        "Dictionaries excel in mapping relationships (e.g., caching, counting occurrences) and are more scalable for large datasets.\n",
        "\n",
        "4. Avoiding Duplicates :\n",
        "Keys in dictionaries are unique, preventing accidental duplicates, which is not guaranteed in lists."
      ],
      "metadata": {
        "id": "C5GQroR6XJgs"
      }
    },
    {
      "cell_type": "markdown",
      "source": [
        "12)Describe a scenario where using a tuple would be preferable over a list.\n",
        "- A tuple is preferable over a list when data integrity and immutability are required.\n",
        "\n",
        "- Scenario: Storing Database Records\n",
        "Suppose you are retrieving user data from a database, such as an ID, name, and birthdate. Since these values should not change, a tuple ensures data consistency."
      ],
      "metadata": {
        "id": "GNHwxUp-YNZo"
      }
    },
    {
      "cell_type": "code",
      "source": [
        "user_record = (101, \"Alice\", \"1995-06-15\")"
      ],
      "metadata": {
        "id": "teyhyoe2Yzd6"
      },
      "execution_count": null,
      "outputs": []
    },
    {
      "cell_type": "markdown",
      "source": [
        "13) How do sets handle duplicate values in Python?\n",
        "- Sets in Python automatically remove duplicate values by storing only unique elements. When adding items, Python uses a hash table to check for existing values, ensuring each element appears only once. This makes sets ideal for removing duplicates and performing fast membership tests with O(1) average-time complexity."
      ],
      "metadata": {
        "id": "kw5M9-OVY6P6"
      }
    },
    {
      "cell_type": "markdown",
      "source": [
        "14) How does the “in” keyword work differently for lists and dictionaries?\n",
        "- In lists, the in keyword performs a linear search (O(n)), checking each element for a match. In dictionaries, in checks only keys using a hash table (O(1) average-time complexity), making lookups much faster. For values in dictionaries, values() must be used: value in my_dict.values()."
      ],
      "metadata": {
        "id": "tlMCVRRrZXRm"
      }
    },
    {
      "cell_type": "markdown",
      "source": [
        "15) Can you modify the elements of a tuple? Explain why or why not.\n",
        "- No, you cannot modify the elements of a tuple because tuples are immutable in Python. Once a tuple is created, its elements cannot be changed, added, or removed.\n",
        "\n",
        "Why?\n",
        "- Data Integrity – Prevents accidental modifications.\n",
        "- Memory Efficiency – Tuples use less memory and allow optimizations.\n",
        "- Hashability – Tuples can be used as dictionary keys, unlike lists.\n",
        "Example:"
      ],
      "metadata": {
        "id": "Mw8M5EoFaUqL"
      }
    },
    {
      "cell_type": "code",
      "source": [
        "my_tuple = (1, 2, 3)\n",
        "# my_tuple[0] = 10  # This raises a TypeError"
      ],
      "metadata": {
        "id": "0Q7v_fUNbCfm"
      },
      "execution_count": null,
      "outputs": []
    },
    {
      "cell_type": "markdown",
      "source": [
        "However, if a tuple contains a mutable object (like a list), that object can be modified."
      ],
      "metadata": {
        "id": "r10xVhPgbIlJ"
      }
    },
    {
      "cell_type": "markdown",
      "source": [
        "16)What is a nested dictionary, and give an example of its use case.\n",
        "- A nested dictionary is a dictionary containing one or more dictionaries as values. It helps organize complex data hierarchically.\n",
        "\n",
        "Use Case: Storing Student Records\n",
        "A school database can use a nested dictionary to store multiple students’ details."
      ],
      "metadata": {
        "id": "NdshYsNNbPpq"
      }
    },
    {
      "cell_type": "code",
      "source": [
        "students = {\n",
        "    \"Alice\": {\"age\": 25, \"grade\": \"A\", \"subjects\": [\"Math\", \"Physics\"]},\n",
        "    \"Bob\": {\"age\": 22, \"grade\": \"B\", \"subjects\": [\"History\", \"English\"]}\n",
        "}\n",
        "\n",
        "print(students[\"Alice\"][\"grade\"])  # Output: A"
      ],
      "metadata": {
        "colab": {
          "base_uri": "https://localhost:8080/"
        },
        "id": "X8DZdQLab_DK",
        "outputId": "e9efe605-8dd1-4981-b362-b9ec302c37f7"
      },
      "execution_count": null,
      "outputs": [
        {
          "output_type": "stream",
          "name": "stdout",
          "text": [
            "A\n"
          ]
        }
      ]
    },
    {
      "cell_type": "markdown",
      "source": [
        "Why Use Nested Dictionaries?\n",
        "- Better Organization – Groups related data together.\n",
        "- Efficient Data Retrieval – Access information quickly using keys.\n",
        "- Scalability – Easily extends to store more attributes."
      ],
      "metadata": {
        "id": "ZToi3S7gcJx4"
      }
    },
    {
      "cell_type": "markdown",
      "source": [
        "17)Describe the time complexity of accessing elements in a dictionary.\n",
        "- Accessing elements in a dictionary has an average time complexity of O(1) due to its hash table implementation. Python computes a hash value for each key, mapping it directly to a memory location, making lookups nearly instantaneous.\n",
        "\n",
        "- However, in the worst case, time complexity can be O(n) due to hash collisions, where multiple keys map to the same bucket. Python handles this using open addressing or separate chaining, but excessive collisions can slow access times.\n",
        "\n",
        "- Despite this, dictionaries remain highly efficient for large datasets, making them ideal for fast lookups, caching, and key-value mappings in Python programs."
      ],
      "metadata": {
        "id": "TmS0oEqpcji9"
      }
    },
    {
      "cell_type": "markdown",
      "source": [
        "18) In what situations are lists preferred over dictionaries?\n",
        "- Lists are preferred over dictionaries in situations where ordered data, sequential access, or indexing by position is needed. Since lists maintain the order of elements, they are useful for ordered collections like arrays, stacks, and queues.\n",
        "\n",
        "- They are ideal when keys are unnecessary, and elements can be accessed by index efficiently (O(1)). Lists also use less memory compared to dictionaries, which store key-value mappings and hashing overhead.\n",
        "\n",
        "- For iterating over elements, storing simple sequences, or when random access by position is required, lists are preferable. However, dictionaries excel when fast lookups, key-based retrieval, and structured data are needed."
      ],
      "metadata": {
        "id": "ixcA6-34dMMV"
      }
    },
    {
      "cell_type": "markdown",
      "source": [
        "19)Why are dictionaries considered unordered, and how does that affect data retrieval?\n",
        "- Dictionaries in Python were historically considered unordered because they used a hash table for storage, meaning elements were not stored in a predictable sequence. However, since Python 3.7+, dictionaries preserve insertion order, though they are still optimized for fast lookups rather than positional access.\n",
        "\n",
        "- This affects data retrieval by allowing O(1) average-time complexity for key-based lookups, but not supporting index-based access like lists. Attempting to access elements by position (dict[0]) raises an error. Instead, retrieval is done using keys (dict[key]). Despite order preservation, dictionaries remain optimized for fast key lookups rather than sequential data manipulation."
      ],
      "metadata": {
        "id": "2BlhmEuCd7I6"
      }
    },
    {
      "cell_type": "markdown",
      "source": [
        "20)Explain the difference between a list and a dictionary in terms of data retrieval.\n",
        "- A list retrieves data using index-based access (O(1)), where elements are accessed by their position (list[0]). However, searching for a specific value requires O(n) linear time since each element must be checked.\n",
        "\n",
        "- A dictionary, on the other hand, retrieves data using key-based access (O(1) average-time complexity) due to its hash table implementation. Instead of searching sequentially, dictionaries compute a hash function to locate the key’s value instantly (dict[\"key\"]).\n",
        "\n",
        "- This makes lists ideal for ordered, sequential data, while dictionaries excel at fast lookups, key-value mappings, and structured data storage without needing numerical indexing."
      ],
      "metadata": {
        "id": "aSbAihUtekqb"
      }
    },
    {
      "cell_type": "markdown",
      "source": [
        "#Practical questions"
      ],
      "metadata": {
        "id": "gjphIa-RNRV-"
      }
    },
    {
      "cell_type": "markdown",
      "source": [
        "1)Write a code to create a string with your name and print it."
      ],
      "metadata": {
        "id": "wCo3mlrHNZip"
      }
    },
    {
      "cell_type": "code",
      "source": [
        "name= \"Divyaraj\"\n",
        "print(name)"
      ],
      "metadata": {
        "colab": {
          "base_uri": "https://localhost:8080/"
        },
        "id": "3dqCoXSdNwKS",
        "outputId": "dece892a-3620-4962-bf78-6f1db0967cab"
      },
      "execution_count": 1,
      "outputs": [
        {
          "output_type": "stream",
          "name": "stdout",
          "text": [
            "Divyaraj\n"
          ]
        }
      ]
    },
    {
      "cell_type": "markdown",
      "source": [
        "2)Write a code to find the length of the string \"Hello World\"."
      ],
      "metadata": {
        "id": "BOryDbweN66S"
      }
    },
    {
      "cell_type": "code",
      "source": [
        "greet= \"Hello World\"\n",
        "len(greet)"
      ],
      "metadata": {
        "colab": {
          "base_uri": "https://localhost:8080/"
        },
        "id": "k7SWiymSOEf5",
        "outputId": "9067e519-e345-4603-d1f5-fe9ebfd17c17"
      },
      "execution_count": 2,
      "outputs": [
        {
          "output_type": "execute_result",
          "data": {
            "text/plain": [
              "11"
            ]
          },
          "metadata": {},
          "execution_count": 2
        }
      ]
    },
    {
      "cell_type": "markdown",
      "source": [
        "3)Write a code to slice the first 3 characters from the string \"Python Programming\"."
      ],
      "metadata": {
        "id": "fERYnYZWOXoY"
      }
    },
    {
      "cell_type": "code",
      "source": [
        "text = \"Python Programming\"\n",
        "sliced_text = text[:3]  # Slicing the first 3 characters\n",
        "print(sliced_text)"
      ],
      "metadata": {
        "id": "j99LgJjAcHzU",
        "colab": {
          "base_uri": "https://localhost:8080/"
        },
        "outputId": "3fdc78db-f1fc-457e-9c63-3c7d68406845"
      },
      "execution_count": 3,
      "outputs": [
        {
          "output_type": "stream",
          "name": "stdout",
          "text": [
            "Pyt\n"
          ]
        }
      ]
    },
    {
      "cell_type": "markdown",
      "source": [
        "4)Write a code to convert the string \"hello\" to uppercase."
      ],
      "metadata": {
        "id": "p3ouobYVVqmy"
      }
    },
    {
      "cell_type": "code",
      "source": [
        "a= \"hello\"\n",
        "print(a.upper())"
      ],
      "metadata": {
        "colab": {
          "base_uri": "https://localhost:8080/"
        },
        "id": "E2HHWrYZVpbi",
        "outputId": "768fb9e5-72e7-49de-f561-6132d2868784"
      },
      "execution_count": 4,
      "outputs": [
        {
          "output_type": "stream",
          "name": "stdout",
          "text": [
            "HELLO\n"
          ]
        }
      ]
    },
    {
      "cell_type": "markdown",
      "source": [
        "5)Write a code to replace the word \"apple\" with \"orange\" in the string \"I like apple\"."
      ],
      "metadata": {
        "id": "Bp5mRjROWEPG"
      }
    },
    {
      "cell_type": "code",
      "source": [
        "text = \"I like apple\"\n",
        "new_text = text.replace(\"apple\", \"orange\")  # Replacing \"apple\" with \"orange\"\n",
        "print(new_text)"
      ],
      "metadata": {
        "colab": {
          "base_uri": "https://localhost:8080/"
        },
        "id": "gtQ3dtuhWoBj",
        "outputId": "d1f41ed7-53e6-4712-da67-228a985731b5"
      },
      "execution_count": 6,
      "outputs": [
        {
          "output_type": "stream",
          "name": "stdout",
          "text": [
            "I like orange\n"
          ]
        }
      ]
    },
    {
      "cell_type": "markdown",
      "source": [
        "6) Write a code to create a list with numbers 1 to 5 and print it."
      ],
      "metadata": {
        "id": "4GwImyYzW8e1"
      }
    },
    {
      "cell_type": "code",
      "source": [
        "numbers = [1, 2, 3, 4, 5]\n",
        "print(numbers)"
      ],
      "metadata": {
        "colab": {
          "base_uri": "https://localhost:8080/"
        },
        "id": "avhFMqGRW7HI",
        "outputId": "95e82cca-5bb7-4e7c-ce37-42752d28aa05"
      },
      "execution_count": 7,
      "outputs": [
        {
          "output_type": "stream",
          "name": "stdout",
          "text": [
            "[1, 2, 3, 4, 5]\n"
          ]
        }
      ]
    },
    {
      "cell_type": "markdown",
      "source": [
        "7)Write a code to append the number 10 to the list [1, 2, 3, 4]."
      ],
      "metadata": {
        "id": "UmQp7dpOXVCJ"
      }
    },
    {
      "cell_type": "code",
      "source": [
        "numbers = [1, 2, 3, 4]\n",
        "numbers.append(10)  # Appending 10 to the list\n",
        "print(numbers)"
      ],
      "metadata": {
        "colab": {
          "base_uri": "https://localhost:8080/"
        },
        "id": "vRyjOSiOXToM",
        "outputId": "43c040b4-3129-4543-eea8-9691d16cc03a"
      },
      "execution_count": 8,
      "outputs": [
        {
          "output_type": "stream",
          "name": "stdout",
          "text": [
            "[1, 2, 3, 4, 10]\n"
          ]
        }
      ]
    },
    {
      "cell_type": "markdown",
      "source": [
        "8)Write a code to remove the number 3 from the list [1, 2, 3, 4, 5]."
      ],
      "metadata": {
        "id": "XC9klLFgXm1x"
      }
    },
    {
      "cell_type": "code",
      "source": [
        "numbers = [1, 2, 3, 4, 5]\n",
        "numbers.remove(3)  # Removing the number 3 from the list\n",
        "print(numbers)"
      ],
      "metadata": {
        "colab": {
          "base_uri": "https://localhost:8080/"
        },
        "id": "pMNfcPMYXlMm",
        "outputId": "a8c58228-a4ef-4cb6-9265-b21cdf928b50"
      },
      "execution_count": 9,
      "outputs": [
        {
          "output_type": "stream",
          "name": "stdout",
          "text": [
            "[1, 2, 4, 5]\n"
          ]
        }
      ]
    },
    {
      "cell_type": "markdown",
      "source": [
        "9)Write a code to access the second element in the list ['a', 'b', 'c', 'd']."
      ],
      "metadata": {
        "id": "i_XDlJiDX6AP"
      }
    },
    {
      "cell_type": "code",
      "source": [
        "letters = ['a', 'b', 'c', 'd']\n",
        "second_element = letters[1]  # Index 1 refers to the second element\n",
        "print(second_element)"
      ],
      "metadata": {
        "colab": {
          "base_uri": "https://localhost:8080/"
        },
        "id": "DasTKdRLX3NV",
        "outputId": "22e89318-833d-492a-b8fc-a1613c9a0ac7"
      },
      "execution_count": 10,
      "outputs": [
        {
          "output_type": "stream",
          "name": "stdout",
          "text": [
            "b\n"
          ]
        }
      ]
    },
    {
      "cell_type": "markdown",
      "source": [
        "10)Write a code to reverse the list [10, 20, 30, 40, 50]."
      ],
      "metadata": {
        "id": "n7R65VyJYUDC"
      }
    },
    {
      "cell_type": "code",
      "source": [
        "numbers = [10, 20, 30, 40, 50]\n",
        "numbers.reverse()  # Reversing the list\n",
        "print(numbers)"
      ],
      "metadata": {
        "colab": {
          "base_uri": "https://localhost:8080/"
        },
        "id": "qMr7gkJ9YSfb",
        "outputId": "e319ac61-bbda-4336-86cb-abc8da4b14cd"
      },
      "execution_count": 11,
      "outputs": [
        {
          "output_type": "stream",
          "name": "stdout",
          "text": [
            "[50, 40, 30, 20, 10]\n"
          ]
        }
      ]
    },
    {
      "cell_type": "code",
      "source": [],
      "metadata": {
        "id": "Ql1A2o-uYlkM"
      },
      "execution_count": null,
      "outputs": []
    }
  ]
}